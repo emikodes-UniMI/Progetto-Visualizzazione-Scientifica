{
 "cells": [
  {
   "cell_type": "code",
   "execution_count": null,
   "id": "ea63224c-5206-4a5e-b78f-3eaa28201ac0",
   "metadata": {},
   "outputs": [],
   "source": [
    "import pandas as pd\n",
    "import matplotlib.pyplot as plt\n",
    "import seaborn as sns\n",
    "\n",
    "df = pd.read_csv('ai_job_trends_dataset.csv')\n",
    "\n",
    "impact_mapping = {\n",
    "    'High': 100,\n",
    "    'Moderate': 50,\n",
    "    'Low': 0\n",
    "}\n",
    "df['Impact Score'] = df['AI Impact Level'].map(impact_mapping)\n",
    "industry_impact_scores = df.groupby('Industry')['Impact Score'].mean().sort_values(ascending=True)\n",
    "\n",
    "base_color = \"#e67cb9\"\n",
    "\n",
    "custom_palette = sns.light_palette(base_color, n_colors=len(industry_impact_scores), reverse=False)\n",
    "\n",
    "fig, ax = plt.subplots(figsize=(12, 10))\n",
    "\n",
    "ax.barh(\n",
    "    industry_impact_scores.index,\n",
    "    industry_impact_scores.values,\n",
    "    color=custom_palette\n",
    ")\n",
    "\n",
    "ax.invert_yaxis()\n",
    "\n",
    "ax.bar_label(ax.containers[0], fmt='%.1f', padding=3)\n",
    "\n",
    "ax.set_title('Punteggio Medio di Impatto dell\\'AI per Settore', fontsize=16)\n",
    "ax.set_xlabel('Punteggio di Impatto Medio (0-100)', fontsize=12)\n",
    "ax.set_ylabel('Settore', fontsize=12)\n",
    "ax.spines[['right', 'top']].set_visible(False)\n",
    "\n",
    "plt.tight_layout()\n",
    "plt.savefig(\"PunteggioMedioImpattoAIxSettore.png\")\n",
    "plt.show()"
   ]
  }
 ],
 "metadata": {
  "kernelspec": {
   "display_name": "Python 3 (ipykernel)",
   "language": "python",
   "name": "python3"
  },
  "language_info": {
   "codemirror_mode": {
    "name": "ipython",
    "version": 3
   },
   "file_extension": ".py",
   "mimetype": "text/x-python",
   "name": "python",
   "nbconvert_exporter": "python",
   "pygments_lexer": "ipython3",
   "version": "3.12.7"
  }
 },
 "nbformat": 4,
 "nbformat_minor": 5
}
