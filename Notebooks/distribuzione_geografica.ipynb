{
 "cells": [
  {
   "cell_type": "code",
   "execution_count": null,
   "id": "ca091fac-656d-47cd-8fe9-44589fc477e6",
   "metadata": {},
   "outputs": [],
   "source": [
    "import pandas as pd\n",
    "import plotly.express as px\n",
    "import pycountry\n",
    "\n",
    "df = pd.read_csv('ai_job_dataset.csv', sep=',')\n",
    "\n",
    "job_counts_by_country = df['company_location'].value_counts().reset_index()\n",
    "job_counts_by_country.columns = ['country_name', 'job_count']\n",
    "\n",
    "def get_iso_code(country_name):\n",
    "    \"\"\"Converte un nome di nazione nel suo codice ISO a 3 lettere.\"\"\"\n",
    "    if country_name == \"United States\": return \"USA\"\n",
    "    if country_name == \"Russian Federation\": return \"RUS\"\n",
    "    try:\n",
    "        return pycountry.countries.search_fuzzy(country_name)[0].alpha_3\n",
    "    except (LookupError, AttributeError):\n",
    "        return None\n",
    "\n",
    "job_counts_by_country['iso_alpha'] = job_counts_by_country['country_name'].apply(get_iso_code)\n",
    "job_counts_by_country.dropna(subset=['iso_alpha'], inplace=True)\n",
    "\n",
    "fig = px.choropleth(\n",
    "    job_counts_by_country,\n",
    "    locations=\"iso_alpha\",\n",
    "    color=\"job_count\",\n",
    "    hover_name=\"country_name\",\n",
    "    \n",
    "    color_continuous_scale='RdPu',\n",
    "    title=\"Distribuzione Globale delle Offerte di Lavoro in Ambito AI\"\n",
    ")\n",
    "\n",
    "fig.update_layout(\n",
    "    title_font_size=22,\n",
    "    title_x=0.5,\n",
    "    geo=dict(\n",
    "        showframe=False,\n",
    "        showcoastlines=False,\n",
    "        projection_type='natural earth'\n",
    "    )\n",
    ")\n",
    "\n",
    "try:\n",
    "    fig.write_image(\"distribuzione_geografica_AI.png\", width=1200, height=700, scale=2)\n",
    "    print(\"Mappa generata con successo e salvata come 'distribuzione_geografica_AI.png'\")\n",
    "except Exception as e:\n",
    "    print(f\"Errore durante il salvataggio: {e}. Assicurati di aver installato 'kaleido'.\")"
   ]
  }
 ],
 "metadata": {
  "kernelspec": {
   "display_name": "Python 3 (ipykernel)",
   "language": "python",
   "name": "python3"
  },
  "language_info": {
   "codemirror_mode": {
    "name": "ipython",
    "version": 3
   },
   "file_extension": ".py",
   "mimetype": "text/x-python",
   "name": "python",
   "nbconvert_exporter": "python",
   "pygments_lexer": "ipython3",
   "version": "3.12.7"
  }
 },
 "nbformat": 4,
 "nbformat_minor": 5
}
