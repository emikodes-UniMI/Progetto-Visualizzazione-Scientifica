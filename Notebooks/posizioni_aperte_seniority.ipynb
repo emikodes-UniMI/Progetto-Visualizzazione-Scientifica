{
 "cells": [
  {
   "cell_type": "code",
   "execution_count": null,
   "id": "f4e92f08-a9fd-493f-954c-a018c565691e",
   "metadata": {},
   "outputs": [],
   "source": [
    "import pandas as pd\n",
    "import matplotlib.pyplot as plt\n",
    "\n",
    "df = pd.read_csv(\"/kaggle/input/global-ai-job-market-and-salary-trends-2025/ai_job_dataset.csv\")\n",
    "fig, ax = plt.subplots(figsize=(12, 8))\n",
    "seniority_mapping={\n",
    "    \"EX\" : \"Expert\",\n",
    "    \"SE\" : \"Senior\",\n",
    "    \"MI\" : \"Mid-Level\",\n",
    "    \"EN\" : \"Junior\"\n",
    "}\n",
    "\n",
    "df['experience_level'].map(seniority_mapping).value_counts().reindex(seniority_mapping.values()).plot.barh(color=\"#e67cb9\")\n",
    "\n",
    "ax.set_title('Numero di posizioni aperte per seniority in ambiente AI', fontsize=16)\n",
    "ax.set_xlabel('Numero di Offerte', fontsize=16)\n",
    "ax.set_ylabel('Livello di esperienza', fontsize=16)\n",
    "\n",
    "\n",
    "plt.savefig(\"NumeroPosizioniAperteSeniority.png\")"
   ]
  }
 ],
 "metadata": {
  "kernelspec": {
   "display_name": "Python 3 (ipykernel)",
   "language": "python",
   "name": "python3"
  },
  "language_info": {
   "codemirror_mode": {
    "name": "ipython",
    "version": 3
   },
   "file_extension": ".py",
   "mimetype": "text/x-python",
   "name": "python",
   "nbconvert_exporter": "python",
   "pygments_lexer": "ipython3",
   "version": "3.12.7"
  }
 },
 "nbformat": 4,
 "nbformat_minor": 5
}
